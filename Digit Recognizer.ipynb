{
 "cells": [
  {
   "cell_type": "markdown",
   "metadata": {
    "id": "S-q8ANJUBCsn"
   },
   "source": [
    "Mid Term Project Digit Reogniser - Bulid a mode using Kaggle Dataset to recognise handwritten digits."
   ]
  },
  {
   "cell_type": "markdown",
   "metadata": {
    "id": "UKUru22cEAuH"
   },
   "source": [
    "Loading required libraries"
   ]
  },
  {
   "cell_type": "code",
   "execution_count": 81,
   "metadata": {
    "id": "SqlmWN94Ay-g"
   },
   "outputs": [],
   "source": [
    "# Libraries for calculation\n",
    "import pandas as pd\n",
    "import numpy as np\n",
    "import os\n",
    "\n",
    "# Libraries for plotting\n",
    "import seaborn as sns \n",
    "import matplotlib.pyplot as plt \n",
    "#Keras\n",
    "from keras.models import Sequential \n",
    "from keras.layers import Dense, Dropout, Flatten, Conv2D, MaxPool2D, BatchNormalization\n",
    "#from keras.utils.np_utils import to_categorical\n",
    "from keras.models import Sequential\n",
    "#Sklearn\n",
    "import sklearn.metrics as metrics\n",
    "from sklearn.model_selection import train_test_split \n",
    "\n",
    "import tensorflow as tf\n",
    "#from tensorflow import keras\n",
    "import keras \n",
    "\n",
    "#Image Augmentation\n",
    "from numpy import expand_dims\n",
    "from keras.preprocessing.image import load_img\n",
    "from keras.preprocessing.image import img_to_array\n",
    "from keras.preprocessing.image import ImageDataGenerator\n",
    "from keras.utils.np_utils import to_categorical\n"
   ]
  },
  {
   "cell_type": "markdown",
   "metadata": {
    "id": "EmajSiv4Frce"
   },
   "source": [
    "Functions for data loading data,Spliting data, Normalizing data"
   ]
  },
  {
   "cell_type": "code",
   "execution_count": 70,
   "metadata": {
    "id": "q1xjL34xFpAT"
   },
   "outputs": [],
   "source": [
    "def datasplit(x,y):## spliting training and validation data\n",
    "    x_train, x_validation, y_train, y_validation = train_test_split(x, y,test_size=.2,random_state=1)#spliting training data int\n",
    "    return(x_train, x_validation, y_train, y_validation)\n",
    "def dataload(filepath): ## function for reading file\n",
    "    data=pd.read_csv(filepath)\n",
    "    return data\n",
    " \n",
    "def datapreprocess(data):\n",
    "    y_transformed = keras.utils.np_utils.to_categorical(data.label, 10)\n",
    "    num_im = data.shape[0]\n",
    "    conv2d = data.values[:,1:]\n",
    "    x_for_cnn = conv2d.reshape(num_im,28,28, 1)\n",
    "    x_transformed = x_for_cnn / 255\n",
    "    return x_transformed,y_transformed"
   ]
  },
  {
   "cell_type": "markdown",
   "metadata": {
    "id": "iwIFBEz2HR13"
   },
   "source": [
    "Preapring the training data"
   ]
  },
  {
   "cell_type": "code",
   "execution_count": 71,
   "metadata": {
    "id": "igkL2PBPGPMj"
   },
   "outputs": [],
   "source": [
    "filepath =\"/content/drive/MyDrive/train.csv\"\n",
    "data=dataload(filepath)\n",
    "x, y = datapreprocess(data)"
   ]
  },
  {
   "cell_type": "markdown",
   "metadata": {
    "id": "NKT_Gdj2nirN"
   },
   "source": [
    "Building the convolutional neural network\n"
   ]
  },
  {
   "cell_type": "code",
   "execution_count": 91,
   "metadata": {
    "colab": {
     "base_uri": "https://localhost:8080/"
    },
    "id": "hZgaMTBLd1ip",
    "outputId": "7319c1b7-a3cf-4c92-ad82-a99dfbd335a7"
   },
   "outputs": [
    {
     "name": "stdout",
     "output_type": "stream",
     "text": [
      "Model: \"sequential_5\"\n",
      "_________________________________________________________________\n",
      " Layer (type)                Output Shape              Param #   \n",
      "=================================================================\n",
      " conv2d_20 (Conv2D)          (None, 28, 28, 64)        1664      \n",
      "                                                                 \n",
      " batch_normalization_20 (Bat  (None, 28, 28, 64)       256       \n",
      " chNormalization)                                                \n",
      "                                                                 \n",
      " conv2d_21 (Conv2D)          (None, 28, 28, 64)        102464    \n",
      "                                                                 \n",
      " batch_normalization_21 (Bat  (None, 28, 28, 64)       256       \n",
      " chNormalization)                                                \n",
      "                                                                 \n",
      " max_pooling2d_10 (MaxPoolin  (None, 14, 14, 64)       0         \n",
      " g2D)                                                            \n",
      "                                                                 \n",
      " dropout_14 (Dropout)        (None, 14, 14, 64)        0         \n",
      "                                                                 \n",
      " conv2d_22 (Conv2D)          (None, 14, 14, 64)        36928     \n",
      "                                                                 \n",
      " batch_normalization_22 (Bat  (None, 14, 14, 64)       256       \n",
      " chNormalization)                                                \n",
      "                                                                 \n",
      " conv2d_23 (Conv2D)          (None, 14, 14, 64)        36928     \n",
      "                                                                 \n",
      " batch_normalization_23 (Bat  (None, 14, 14, 64)       256       \n",
      " chNormalization)                                                \n",
      "                                                                 \n",
      " max_pooling2d_11 (MaxPoolin  (None, 7, 7, 64)         0         \n",
      " g2D)                                                            \n",
      "                                                                 \n",
      " flatten_5 (Flatten)         (None, 3136)              0         \n",
      "                                                                 \n",
      " dense_15 (Dense)            (None, 256)               803072    \n",
      "                                                                 \n",
      " dropout_15 (Dropout)        (None, 256)               0         \n",
      "                                                                 \n",
      " dense_16 (Dense)            (None, 256)               65792     \n",
      "                                                                 \n",
      " dropout_16 (Dropout)        (None, 256)               0         \n",
      "                                                                 \n",
      " dense_17 (Dense)            (None, 10)                2570      \n",
      "                                                                 \n",
      "=================================================================\n",
      "Total params: 1,050,442\n",
      "Trainable params: 1,049,930\n",
      "Non-trainable params: 512\n",
      "_________________________________________________________________\n"
     ]
    }
   ],
   "source": [
    "model = Sequential()\n",
    "\n",
    "model.add(Conv2D(filters = 64, kernel_size = (5,5),padding = 'Same', \n",
    "                 activation ='relu', input_shape = (28,28,1)))\n",
    "model.add(BatchNormalization())\n",
    "model.add(Conv2D(filters = 64, kernel_size = (5,5),padding = 'Same', \n",
    "                 activation ='relu'))\n",
    "model.add(BatchNormalization())\n",
    "model.add(MaxPool2D(pool_size=(2,2)))\n",
    "model.add(Dropout(0.25))\n",
    "\n",
    "\n",
    "model.add(Conv2D(filters = 64, kernel_size = (3,3),padding = 'Same', \n",
    "                 activation ='relu'))\n",
    "model.add(BatchNormalization())\n",
    "model.add(Conv2D(filters = 64, kernel_size = (3,3),padding = 'Same', \n",
    "                 activation ='relu'))\n",
    "model.add(BatchNormalization())\n",
    "model.add(MaxPool2D(pool_size=(2,2), strides=(2,2)))\n",
    "\n",
    "\n",
    "\n",
    "model.add(Flatten())\n",
    "model.add(Dense(256, activation = \"relu\"))\n",
    "model.add(Dropout(0.5))\n",
    "model.add(Dense(256, activation = \"relu\"))\n",
    "model.add(Dropout(0.5))\n",
    "model.add(Dense(10, activation = \"softmax\"))\n",
    "\n",
    "model.summary()"
   ]
  },
  {
   "cell_type": "markdown",
   "metadata": {
    "id": "kXXAn-xPoBC-"
   },
   "source": [
    "Converting  one dimensional array "
   ]
  },
  {
   "cell_type": "code",
   "execution_count": 87,
   "metadata": {
    "colab": {
     "base_uri": "https://localhost:8080/"
    },
    "id": "ItBnjqSMLLuk",
    "outputId": "b3b62048-3772-47c2-a4b7-337323e35489"
   },
   "outputs": [
    {
     "name": "stdout",
     "output_type": "stream",
     "text": [
      "(42000, 28, 28, 1)\n"
     ]
    }
   ],
   "source": [
    "datagen = ImageDataGenerator(\n",
    "        featurewise_center=False, \n",
    "        samplewise_center=False, \n",
    "        featurewise_std_normalization=False, \n",
    "        samplewise_std_normalization=False,  \n",
    "        zca_whitening=False, \n",
    "        rotation_range=10, \n",
    "        zoom_range = 0.1,\n",
    "        width_shift_range=0.1, \n",
    "        height_shift_range=0.1, \n",
    "        horizontal_flip=False, \n",
    "        vertical_flip=False)  # randomly flip images\n",
    "print(x.shape)\n",
    "datagen.fit(x)"
   ]
  },
  {
   "cell_type": "code",
   "execution_count": 88,
   "metadata": {
    "id": "yhy2ff3nMT6m"
   },
   "outputs": [],
   "source": [
    "x_train, x_validation, y_train, y_validation=datasplit(x,y)"
   ]
  },
  {
   "cell_type": "markdown",
   "metadata": {
    "id": "J9D5myd0oPV0"
   },
   "source": [
    "Training of the  model"
   ]
  },
  {
   "cell_type": "code",
   "execution_count": 93,
   "metadata": {
    "colab": {
     "base_uri": "https://localhost:8080/"
    },
    "id": "4k-2CWjpMBTW",
    "outputId": "cfd45d72-a4fc-40f7-d1ff-2e9c3733ffb6"
   },
   "outputs": [
    {
     "name": "stdout",
     "output_type": "stream",
     "text": [
      "Epoch 1/35\n"
     ]
    },
    {
     "name": "stderr",
     "output_type": "stream",
     "text": [
      "/usr/local/lib/python3.7/dist-packages/ipykernel_launcher.py:5: UserWarning: `Model.fit_generator` is deprecated and will be removed in a future version. Please use `Model.fit`, which supports generators.\n",
      "  \"\"\"\n"
     ]
    },
    {
     "name": "stdout",
     "output_type": "stream",
     "text": [
      "391/391 [==============================] - 23s 56ms/step - loss: 0.0393 - accuracy: 0.9910 - val_loss: 0.0455 - val_accuracy: 0.9932\n",
      "Epoch 2/35\n",
      "391/391 [==============================] - 20s 52ms/step - loss: 0.0439 - accuracy: 0.9902 - val_loss: 0.0418 - val_accuracy: 0.9923\n",
      "Epoch 3/35\n",
      "391/391 [==============================] - 21s 55ms/step - loss: 0.0459 - accuracy: 0.9896 - val_loss: 0.0434 - val_accuracy: 0.9907\n",
      "Epoch 4/35\n",
      "391/391 [==============================] - 20s 52ms/step - loss: 0.0367 - accuracy: 0.9909 - val_loss: 0.0383 - val_accuracy: 0.9924\n",
      "Epoch 5/35\n",
      "391/391 [==============================] - 21s 53ms/step - loss: 0.0354 - accuracy: 0.9917 - val_loss: 0.0631 - val_accuracy: 0.9908\n",
      "Epoch 6/35\n",
      "391/391 [==============================] - 21s 53ms/step - loss: 0.0327 - accuracy: 0.9921 - val_loss: 0.0359 - val_accuracy: 0.9921\n",
      "Epoch 7/35\n",
      "391/391 [==============================] - 20s 51ms/step - loss: 0.0339 - accuracy: 0.9918 - val_loss: 0.0425 - val_accuracy: 0.9910\n",
      "Epoch 8/35\n",
      "391/391 [==============================] - 21s 53ms/step - loss: 0.0379 - accuracy: 0.9909 - val_loss: 0.0303 - val_accuracy: 0.9937\n",
      "Epoch 9/35\n",
      "391/391 [==============================] - 21s 53ms/step - loss: 0.0359 - accuracy: 0.9910 - val_loss: 0.0332 - val_accuracy: 0.9939\n",
      "Epoch 10/35\n",
      "391/391 [==============================] - 20s 51ms/step - loss: 0.0334 - accuracy: 0.9911 - val_loss: 0.0404 - val_accuracy: 0.9942\n",
      "Epoch 11/35\n",
      "391/391 [==============================] - 20s 51ms/step - loss: 0.0357 - accuracy: 0.9912 - val_loss: 0.0278 - val_accuracy: 0.9938\n",
      "Epoch 12/35\n",
      "391/391 [==============================] - 21s 53ms/step - loss: 0.0298 - accuracy: 0.9924 - val_loss: 0.0363 - val_accuracy: 0.9920\n",
      "Epoch 13/35\n",
      "391/391 [==============================] - 20s 51ms/step - loss: 0.0300 - accuracy: 0.9926 - val_loss: 0.0300 - val_accuracy: 0.9950\n",
      "Epoch 14/35\n",
      "391/391 [==============================] - 21s 53ms/step - loss: 0.0299 - accuracy: 0.9924 - val_loss: 0.0347 - val_accuracy: 0.9938\n",
      "Epoch 15/35\n",
      "391/391 [==============================] - 20s 50ms/step - loss: 0.0251 - accuracy: 0.9933 - val_loss: 0.0399 - val_accuracy: 0.9929\n",
      "Epoch 16/35\n",
      "391/391 [==============================] - 21s 53ms/step - loss: 0.0331 - accuracy: 0.9922 - val_loss: 0.0348 - val_accuracy: 0.9933\n",
      "Epoch 17/35\n",
      "391/391 [==============================] - 21s 52ms/step - loss: 0.0289 - accuracy: 0.9927 - val_loss: 0.0411 - val_accuracy: 0.9929\n",
      "Epoch 18/35\n",
      "391/391 [==============================] - 20s 51ms/step - loss: 0.0288 - accuracy: 0.9926 - val_loss: 0.0369 - val_accuracy: 0.9946\n",
      "Epoch 19/35\n",
      "391/391 [==============================] - 20s 51ms/step - loss: 0.0324 - accuracy: 0.9918 - val_loss: 0.0342 - val_accuracy: 0.9937\n",
      "Epoch 20/35\n",
      "391/391 [==============================] - 20s 52ms/step - loss: 0.0213 - accuracy: 0.9947 - val_loss: 0.0353 - val_accuracy: 0.9938\n",
      "Epoch 21/35\n",
      "391/391 [==============================] - 21s 54ms/step - loss: 0.0298 - accuracy: 0.9927 - val_loss: 0.0344 - val_accuracy: 0.9942\n",
      "Epoch 22/35\n",
      "391/391 [==============================] - 21s 53ms/step - loss: 0.0267 - accuracy: 0.9930 - val_loss: 0.0336 - val_accuracy: 0.9946\n",
      "Epoch 23/35\n",
      "391/391 [==============================] - 19s 49ms/step - loss: 0.0269 - accuracy: 0.9931 - val_loss: 0.0329 - val_accuracy: 0.9951\n",
      "Epoch 24/35\n",
      "391/391 [==============================] - 20s 52ms/step - loss: 0.0252 - accuracy: 0.9936 - val_loss: 0.0359 - val_accuracy: 0.9944\n",
      "Epoch 25/35\n",
      "391/391 [==============================] - 20s 51ms/step - loss: 0.0231 - accuracy: 0.9941 - val_loss: 0.0388 - val_accuracy: 0.9931\n",
      "Epoch 26/35\n",
      "391/391 [==============================] - 21s 53ms/step - loss: 0.0298 - accuracy: 0.9929 - val_loss: 0.0352 - val_accuracy: 0.9930\n",
      "Epoch 27/35\n",
      "391/391 [==============================] - 21s 53ms/step - loss: 0.0250 - accuracy: 0.9935 - val_loss: 0.0352 - val_accuracy: 0.9945\n",
      "Epoch 28/35\n",
      "391/391 [==============================] - 21s 52ms/step - loss: 0.0254 - accuracy: 0.9937 - val_loss: 0.0483 - val_accuracy: 0.9933\n",
      "Epoch 29/35\n",
      "391/391 [==============================] - 20s 50ms/step - loss: 0.0319 - accuracy: 0.9924 - val_loss: 0.0376 - val_accuracy: 0.9944\n",
      "Epoch 30/35\n",
      "391/391 [==============================] - 20s 52ms/step - loss: 0.0256 - accuracy: 0.9943 - val_loss: 0.0353 - val_accuracy: 0.9937\n",
      "Epoch 31/35\n",
      "391/391 [==============================] - 20s 52ms/step - loss: 0.0230 - accuracy: 0.9942 - val_loss: 0.0329 - val_accuracy: 0.9938\n",
      "Epoch 32/35\n",
      "391/391 [==============================] - 21s 54ms/step - loss: 0.0232 - accuracy: 0.9940 - val_loss: 0.0351 - val_accuracy: 0.9948\n",
      "Epoch 33/35\n",
      "391/391 [==============================] - 22s 55ms/step - loss: 0.0222 - accuracy: 0.9943 - val_loss: 0.0416 - val_accuracy: 0.9939\n",
      "Epoch 34/35\n",
      "391/391 [==============================] - 21s 54ms/step - loss: 0.0223 - accuracy: 0.9944 - val_loss: 0.0377 - val_accuracy: 0.9939\n",
      "Epoch 35/35\n",
      "391/391 [==============================] - 20s 51ms/step - loss: 0.0233 - accuracy: 0.9941 - val_loss: 0.0421 - val_accuracy: 0.9946\n"
     ]
    }
   ],
   "source": [
    "model.compile(optimizer=\"adam\", loss=\"categorical_crossentropy\", metrics=[\"accuracy\"])\n",
    "xm=datagen.flow(x,y, batch_size=86)\n",
    "epochs = 35\n",
    "batch_size = 86\n",
    "history = model.fit_generator(datagen.flow(x_train,y_train, batch_size=batch_size),epochs=epochs,validation_data=[x_validation,y_validation])"
   ]
  },
  {
   "cell_type": "markdown",
   "metadata": {
    "id": "mgWFuaFMoW7j"
   },
   "source": [
    "Prediction using trained model"
   ]
  },
  {
   "cell_type": "code",
   "execution_count": 82,
   "metadata": {
    "id": "mERqmqzouMT3"
   },
   "outputs": [],
   "source": [
    "model.save(\"Digit_Recognizer_model.h5\")"
   ]
  },
  {
   "cell_type": "markdown",
   "metadata": {
    "id": "sLsw6-xGy8He"
   },
   "source": [
    "ploting validation loss and accuraccy curves"
   ]
  },
  {
   "cell_type": "code",
   "execution_count": 85,
   "metadata": {
    "colab": {
     "base_uri": "https://localhost:8080/",
     "height": 324
    },
    "id": "qiGFt48Vu4BE",
    "outputId": "2bee8cbf-6bc1-4e50-bf79-b754b0882955"
   },
   "outputs": [
    {
     "data": {
      "image/png": "[encoded data removed]",
      "text/plain": [
       "<Figure size 576x360 with 1 Axes>"
      ]
     },
     "metadata": {
      "needs_background": "light"
     },
     "output_type": "display_data"
    }
   ],
   "source": [
    "pd.DataFrame(history.history).plot(figsize=(8, 5))\n",
    "plt.grid(True)\n",
    "plt.gca().set_ylim(0, 1)\n",
    "plt.show()"
   ]
  },
  {
   "cell_type": "markdown",
   "metadata": {
    "id": "_-Mz-OTJzPZ9"
   },
   "source": [
    "Prediction and saving predicted data"
   ]
  },
  {
   "cell_type": "code",
   "execution_count": 98,
   "metadata": {
    "id": "k4dinDHFcqDA"
   },
   "outputs": [],
   "source": [
    "path=\"/content/drive/MyDrive/test.csv\"\n",
    "data=dataload(path)\n",
    "image_count= data.shape[0]\n",
    "x_array = data.values[:,:]\n",
    "gray_sclae = x_array.reshape(image_count,28,28, 1)\n",
    "x_test = gray_sclae / 255\n",
    "y_pred=model.predict(x_test)\n",
    "y_pred = np.argmax(y_pred,axis=1)\n"
   ]
  },
  {
   "cell_type": "code",
   "execution_count": 99,
   "metadata": {
    "colab": {
     "base_uri": "https://localhost:8080/",
     "height": 206
    },
    "id": "Um0TKVzo-QsZ",
    "outputId": "50f5617d-377b-482d-8289-866c133f0ed4"
   },
   "outputs": [
    {
     "data": {
      "text/html": [
       "\n",
       "  <div id=\"df-c2a81bff-657a-404e-867f-434557c61ddf\">\n",
       "    <div class=\"colab-df-container\">\n",
       "      <div>\n",
       "<style scoped>\n",
       "    .dataframe tbody tr th:only-of-type {\n",
       "        vertical-align: middle;\n",
       "    }\n",
       "\n",
       "    .dataframe tbody tr th {\n",
       "        vertical-align: top;\n",
       "    }\n",
       "\n",
       "    .dataframe thead th {\n",
       "        text-align: right;\n",
       "    }\n",
       "</style>\n",
       "<table border=\"1\" class=\"dataframe\">\n",
       "  <thead>\n",
       "    <tr style=\"text-align: right;\">\n",
       "      <th></th>\n",
       "      <th>0</th>\n",
       "    </tr>\n",
       "  </thead>\n",
       "  <tbody>\n",
       "    <tr>\n",
       "      <th>0</th>\n",
       "      <td>2</td>\n",
       "    </tr>\n",
       "    <tr>\n",
       "      <th>1</th>\n",
       "      <td>0</td>\n",
       "    </tr>\n",
       "    <tr>\n",
       "      <th>2</th>\n",
       "      <td>9</td>\n",
       "    </tr>\n",
       "    <tr>\n",
       "      <th>3</th>\n",
       "      <td>0</td>\n",
       "    </tr>\n",
       "    <tr>\n",
       "      <th>4</th>\n",
       "      <td>3</td>\n",
       "    </tr>\n",
       "  </tbody>\n",
       "</table>\n",
       "</div>\n",
       "      <button class=\"colab-df-convert\" onclick=\"convertToInteractive('df-c2a81bff-657a-404e-867f-434557c61ddf')\"\n",
       "              title=\"Convert this dataframe to an interactive table.\"\n",
       "              style=\"display:none;\">\n",
       "        \n",
       "  <svg xmlns=\"http://www.w3.org/2000/svg\" height=\"24px\"viewBox=\"0 0 24 24\"\n",
       "       width=\"24px\">\n",
       "    <path d=\"M0 0h24v24H0V0z\" fill=\"none\"/>\n",
       "    <path d=\"M18.56 5.44l.94 2.06.94-2.06 2.06-.94-2.06-.94-.94-2.06-.94 2.06-2.06.94zm-11 1L8.5 8.5l.94-2.06 2.06-.94-2.06-.94L8.5 2.5l-.94 2.06-2.06.94zm10 10l.94 2.06.94-2.06 2.06-.94-2.06-.94-.94-2.06-.94 2.06-2.06.94z\"/><path d=\"M17.41 7.96l-1.37-1.37c-.4-.4-.92-.59-1.43-.59-.52 0-1.04.2-1.43.59L10.3 9.45l-7.72 7.72c-.78.78-.78 2.05 0 2.83L4 21.41c.39.39.9.59 1.41.59.51 0 1.02-.2 1.41-.59l7.78-7.78 2.81-2.81c.8-.78.8-2.07 0-2.86zM5.41 20L4 18.59l7.72-7.72 1.47 1.35L5.41 20z\"/>\n",
       "  </svg>\n",
       "      </button>\n",
       "      \n",
       "  <style>\n",
       "    .colab-df-container {\n",
       "      display:flex;\n",
       "      flex-wrap:wrap;\n",
       "      gap: 12px;\n",
       "    }\n",
       "\n",
       "    .colab-df-convert {\n",
       "      background-color: #E8F0FE;\n",
       "      border: none;\n",
       "      border-radius: 50%;\n",
       "      cursor: pointer;\n",
       "      display: none;\n",
       "      fill: #1967D2;\n",
       "      height: 32px;\n",
       "      padding: 0 0 0 0;\n",
       "      width: 32px;\n",
       "    }\n",
       "\n",
       "    .colab-df-convert:hover {\n",
       "      background-color: #E2EBFA;\n",
       "      box-shadow: 0px 1px 2px rgba(60, 64, 67, 0.3), 0px 1px 3px 1px rgba(60, 64, 67, 0.15);\n",
       "      fill: #174EA6;\n",
       "    }\n",
       "\n",
       "    [theme=dark] .colab-df-convert {\n",
       "      background-color: #3B4455;\n",
       "      fill: #D2E3FC;\n",
       "    }\n",
       "\n",
       "    [theme=dark] .colab-df-convert:hover {\n",
       "      background-color: #434B5C;\n",
       "      box-shadow: 0px 1px 3px 1px rgba(0, 0, 0, 0.15);\n",
       "      filter: drop-shadow(0px 1px 2px rgba(0, 0, 0, 0.3));\n",
       "      fill: #FFFFFF;\n",
       "    }\n",
       "  </style>\n",
       "\n",
       "      <script>\n",
       "        const buttonEl =\n",
       "          document.querySelector('#df-c2a81bff-657a-404e-867f-434557c61ddf button.colab-df-convert');\n",
       "        buttonEl.style.display =\n",
       "          google.colab.kernel.accessAllowed ? 'block' : 'none';\n",
       "\n",
       "        async function convertToInteractive(key) {\n",
       "          const element = document.querySelector('#df-c2a81bff-657a-404e-867f-434557c61ddf');\n",
       "          const dataTable =\n",
       "            await google.colab.kernel.invokeFunction('convertToInteractive',\n",
       "                                                     [key], {});\n",
       "          if (!dataTable) return;\n",
       "\n",
       "          const docLinkHtml = 'Like what you see? Visit the ' +\n",
       "            '<a target=\"_blank\" href=https://colab.research.google.com/notebooks/data_table.ipynb>data table notebook</a>'\n",
       "            + ' to learn more about interactive tables.';\n",
       "          element.innerHTML = '';\n",
       "          dataTable['output_type'] = 'display_data';\n",
       "          await google.colab.output.renderOutput(dataTable, element);\n",
       "          const docLink = document.createElement('div');\n",
       "          docLink.innerHTML = docLinkHtml;\n",
       "          element.appendChild(docLink);\n",
       "        }\n",
       "      </script>\n",
       "    </div>\n",
       "  </div>\n",
       "  "
      ],
      "text/plain": [
       "   0\n",
       "0  2\n",
       "1  0\n",
       "2  9\n",
       "3  0\n",
       "4  3"
      ]
     },
     "execution_count": 99,
     "metadata": {},
     "output_type": "execute_result"
    }
   ],
   "source": [
    "finaldata= pd.DataFrame(y_pred)\n",
    "finaldata.to_csv('out.csv')\n",
    "finaldata.head()"
   ]
  }
 ],
 "metadata": {
  "accelerator": "GPU",
  "colab": {
   "collapsed_sections": [],
   "name": "Mid Project Digit Recognizer.ipynb",
   "provenance": []
  },
  "kernelspec": {
   "display_name": "Python 3 (ipykernel)",
   "language": "python",
   "name": "python3"
  },
  "language_info": {
   "codemirror_mode": {
    "name": "ipython",
    "version": 3
   },
   "file_extension": ".py",
   "mimetype": "text/x-python",
   "name": "python",
   "nbconvert_exporter": "python",
   "pygments_lexer": "ipython3",
   "version": "3.9.7"
  }
 },
 "nbformat": 4,
 "nbformat_minor": 1
}
